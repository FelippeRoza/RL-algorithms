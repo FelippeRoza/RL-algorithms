{
 "cells": [
  {
   "cell_type": "code",
   "execution_count": 1,
   "metadata": {},
   "outputs": [],
   "source": [
    "import numpy as np\n",
    "import gym\n",
    "import matplotlib.pyplot as plt\n",
    "from autograd import grad, elementwise_grad\n",
    "import random\n",
    "from IPython import display"
   ]
  },
  {
   "cell_type": "code",
   "execution_count": 2,
   "metadata": {},
   "outputs": [],
   "source": [
    "def e_greedy(env, w, s, epsilon):\n",
    "    if np.random.rand() < epsilon:\n",
    "        return env.action_space.sample()\n",
    "    q_hat = []\n",
    "    for action in range(env.action_space.n):\n",
    "        q_hat.append(approx(w, s, action))\n",
    "    return np.argmax(q_hat)\n",
    "\n",
    "def approx(w, s, a):\n",
    "    return np.dot(s, w)[a]\n",
    "\n",
    "dapprox = grad(approx)"
   ]
  },
  {
   "cell_type": "code",
   "execution_count": null,
   "metadata": {},
   "outputs": [
    {
     "name": "stdout",
     "output_type": "stream",
     "text": [
      "\u001b[33mWARN: gym.spaces.Box autodetected dtype as <class 'numpy.float32'>. Please provide explicit dtype.\u001b[0m\n"
     ]
    }
   ],
   "source": [
    "#parameters\n",
    "max_episode = 500\n",
    "gamma = 0.9\n",
    "epsilon = 0.2\n",
    "alpha = 0.1\n",
    "\n",
    "env = gym.make('CartPole-v0')\n",
    "reward_list = []\n",
    "w = np.zeros((4,2))\n",
    "for episode in range(max_episode):\n",
    "    s = env.reset()\n",
    "    rewards = 0\n",
    "    epsilon = 0.2 * (1.5 - episode/max_episode)\n",
    "    while True:\n",
    "        action = e_greedy(env, w, s, epsilon)\n",
    "        q_hat = approx(w, s, action)\n",
    "        grad_q_hat = dapprox(w, s, action)\n",
    "        next_s, reward, done, _ = env.step(action)\n",
    "        rewards += reward\n",
    "        if done:\n",
    "            w = w + alpha * (reward - q_hat) * grad_q_hat\n",
    "            break\n",
    "        else:\n",
    "            next_action = e_greedy(env, w, next_s, epsilon)\n",
    "            q_hat_next = approx(w, next_s, next_action)\n",
    "            w = w + alpha * (reward - gamma * q_hat_next) * grad_q_hat\n",
    "            s = next_s\n",
    "    reward_list.append(rewards)\n",
    "plt.plot(reward_list)"
   ]
  },
  {
   "cell_type": "code",
   "execution_count": null,
   "metadata": {},
   "outputs": [],
   "source": []
  }
 ],
 "metadata": {
  "kernelspec": {
   "display_name": "Python 3",
   "language": "python",
   "name": "python3"
  },
  "language_info": {
   "codemirror_mode": {
    "name": "ipython",
    "version": 3
   },
   "file_extension": ".py",
   "mimetype": "text/x-python",
   "name": "python",
   "nbconvert_exporter": "python",
   "pygments_lexer": "ipython3",
   "version": "3.6.5"
  }
 },
 "nbformat": 4,
 "nbformat_minor": 2
}
